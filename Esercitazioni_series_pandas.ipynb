{
  "nbformat": 4,
  "nbformat_minor": 0,
  "metadata": {
    "colab": {
      "name": "Esercitazioni series pandas.ipynb",
      "provenance": [],
      "collapsed_sections": [],
      "mount_file_id": "14oeBTUFJtx-rCaMF9wD6RBNAWbwVPGDm",
      "authorship_tag": "ABX9TyOVDg9CRxCiWNdRJlX5MFtQ",
      "include_colab_link": true
    },
    "kernelspec": {
      "name": "python3",
      "display_name": "Python 3"
    },
    "language_info": {
      "name": "python"
    }
  },
  "cells": [
    {
      "cell_type": "markdown",
      "metadata": {
        "id": "view-in-github",
        "colab_type": "text"
      },
      "source": [
        "<a href=\"https://colab.research.google.com/github/DavideColnago97/Lesson-Data-Analysis-with-Python-/blob/master/Esercitazioni_series_pandas.ipynb\" target=\"_parent\"><img src=\"https://colab.research.google.com/assets/colab-badge.svg\" alt=\"Open In Colab\"/></a>"
      ]
    },
    {
      "cell_type": "code",
      "execution_count": 1,
      "metadata": {
        "id": "DZ6WyExYRLjw"
      },
      "outputs": [],
      "source": [
        "# Import the numpy package under the name np\n",
        "import numpy as np\n",
        "\n",
        "# Import the pandas package under the name pd\n",
        "import pandas as pd\n",
        "\n",
        "# Print the pandas version and the configuration"
      ]
    },
    {
      "cell_type": "code",
      "source": [
        "print(pd.__version__)\n"
      ],
      "metadata": {
        "colab": {
          "base_uri": "https://localhost:8080/"
        },
        "id": "cZI_ch74RbFE",
        "outputId": "a0a45106-8292-46be-bedb-a707474017ba"
      },
      "execution_count": 3,
      "outputs": [
        {
          "output_type": "stream",
          "name": "stdout",
          "text": [
            "1.1.5\n"
          ]
        }
      ]
    },
    {
      "cell_type": "markdown",
      "source": [
        "### Create an empty pandas Series"
      ],
      "metadata": {
        "id": "Ai7501IERiOr"
      }
    },
    {
      "cell_type": "code",
      "source": [
        "Series=pd.Series()"
      ],
      "metadata": {
        "colab": {
          "base_uri": "https://localhost:8080/"
        },
        "id": "A8_K_G-gRjVj",
        "outputId": "3c26da88-cd1b-4d68-cbd9-37bfb9fad5ad"
      },
      "execution_count": 4,
      "outputs": [
        {
          "output_type": "stream",
          "name": "stderr",
          "text": [
            "/usr/local/lib/python3.7/dist-packages/ipykernel_launcher.py:1: DeprecationWarning: The default dtype for empty Series will be 'object' instead of 'float64' in a future version. Specify a dtype explicitly to silence this warning.\n",
            "  \"\"\"Entry point for launching an IPython kernel.\n"
          ]
        }
      ]
    },
    {
      "cell_type": "markdown",
      "source": [
        "### Given the X python list convert it to an Y pandas Series\n"
      ],
      "metadata": {
        "id": "Igzj5IGLRsPq"
      }
    },
    {
      "cell_type": "code",
      "source": [
        "X=['A','B','C']\n"
      ],
      "metadata": {
        "id": "UQVq87hkRs88"
      },
      "execution_count": 5,
      "outputs": []
    },
    {
      "cell_type": "code",
      "source": [
        "Y=pd.Series(X)\n",
        "print(Y,type(Y))"
      ],
      "metadata": {
        "colab": {
          "base_uri": "https://localhost:8080/"
        },
        "id": "AX-pr5n6R1lU",
        "outputId": "17b8b81a-71e6-41ab-e0a8-257de8943fb1"
      },
      "execution_count": 8,
      "outputs": [
        {
          "output_type": "stream",
          "name": "stdout",
          "text": [
            "0    A\n",
            "1    B\n",
            "2    C\n",
            "dtype: object <class 'pandas.core.series.Series'>\n"
          ]
        }
      ]
    },
    {
      "cell_type": "markdown",
      "source": [
        "### Given the X pandas Series, name it 'My letters'\n"
      ],
      "metadata": {
        "id": "K1nVNvpCSG-t"
      }
    },
    {
      "cell_type": "code",
      "source": [
        "Y=pd.Series(X,name='My letters')\n",
        "print(Y)"
      ],
      "metadata": {
        "colab": {
          "base_uri": "https://localhost:8080/"
        },
        "id": "PmhifDjESH3O",
        "outputId": "b6bccc84-2cdf-4915-e92e-a5153bbdf6b7"
      },
      "execution_count": 11,
      "outputs": [
        {
          "output_type": "stream",
          "name": "stdout",
          "text": [
            "0    A\n",
            "1    B\n",
            "2    C\n",
            "Name: My letters, dtype: object\n"
          ]
        }
      ]
    },
    {
      "cell_type": "code",
      "source": [
        "X=pd.Series(['A','B','C'], name='My letters')\n",
        "X"
      ],
      "metadata": {
        "colab": {
          "base_uri": "https://localhost:8080/"
        },
        "id": "S-Jgw0rNSZNo",
        "outputId": "d5499f47-8390-44e3-db63-1e78057ba41f"
      },
      "execution_count": 13,
      "outputs": [
        {
          "output_type": "execute_result",
          "data": {
            "text/plain": [
              "0    A\n",
              "1    B\n",
              "2    C\n",
              "Name: My letters, dtype: object"
            ]
          },
          "metadata": {},
          "execution_count": 13
        }
      ]
    },
    {
      "cell_type": "markdown",
      "source": [
        "### Given the X pandas Series, show its values\n"
      ],
      "metadata": {
        "id": "mQ_4SiqHSlKt"
      }
    },
    {
      "cell_type": "code",
      "source": [
        "X.values"
      ],
      "metadata": {
        "colab": {
          "base_uri": "https://localhost:8080/"
        },
        "id": "JUFmQjyFSmFD",
        "outputId": "23d23aaf-b62f-46cf-abfd-65c15727bf07"
      },
      "execution_count": 14,
      "outputs": [
        {
          "output_type": "execute_result",
          "data": {
            "text/plain": [
              "array(['A', 'B', 'C'], dtype=object)"
            ]
          },
          "metadata": {},
          "execution_count": 14
        }
      ]
    },
    {
      "cell_type": "markdown",
      "source": [
        "### Assign index names to the given X pandas Series\n"
      ],
      "metadata": {
        "id": "MibjJCnTSs7K"
      }
    },
    {
      "cell_type": "code",
      "source": [
        "index_names=(['first letter','second letter','third letter'])\n",
        "X.index=index_names\n",
        "X\n"
      ],
      "metadata": {
        "colab": {
          "base_uri": "https://localhost:8080/"
        },
        "id": "8NEUyB9LStjH",
        "outputId": "b4502bd8-de1e-4521-9cae-059db46fc372"
      },
      "execution_count": 18,
      "outputs": [
        {
          "output_type": "execute_result",
          "data": {
            "text/plain": [
              "first letter     A\n",
              "second letter    B\n",
              "third letter     C\n",
              "Name: My letters, dtype: object"
            ]
          },
          "metadata": {},
          "execution_count": 18
        }
      ]
    },
    {
      "cell_type": "code",
      "source": [
        "X.index"
      ],
      "metadata": {
        "colab": {
          "base_uri": "https://localhost:8080/"
        },
        "id": "8JqwNjLlTTy4",
        "outputId": "a821d76a-a0ca-4b90-af46-c8c8e4d2da97"
      },
      "execution_count": 19,
      "outputs": [
        {
          "output_type": "execute_result",
          "data": {
            "text/plain": [
              "Index(['first letter', 'second letter', 'third letter'], dtype='object')"
            ]
          },
          "metadata": {},
          "execution_count": 19
        }
      ]
    },
    {
      "cell_type": "markdown",
      "source": [
        "### Given the X pandas Series, show its first element\n"
      ],
      "metadata": {
        "id": "mV7CHoQ6TV8L"
      }
    },
    {
      "cell_type": "code",
      "source": [
        "X[0]"
      ],
      "metadata": {
        "colab": {
          "base_uri": "https://localhost:8080/",
          "height": 34
        },
        "id": "e5zAf19TTYyp",
        "outputId": "4c2408c1-f165-4025-8cc0-0b5bfb8656b3"
      },
      "execution_count": 20,
      "outputs": [
        {
          "output_type": "execute_result",
          "data": {
            "application/vnd.google.colaboratory.intrinsic+json": {
              "type": "string"
            },
            "text/plain": [
              "'A'"
            ]
          },
          "metadata": {},
          "execution_count": 20
        }
      ]
    },
    {
      "cell_type": "markdown",
      "source": [
        "### Given the X pandas Series, show its last element\n"
      ],
      "metadata": {
        "id": "0r8znacfTixp"
      }
    },
    {
      "cell_type": "code",
      "source": [
        "X[-1]"
      ],
      "metadata": {
        "colab": {
          "base_uri": "https://localhost:8080/",
          "height": 34
        },
        "id": "7FVznYA0Tj1w",
        "outputId": "d68143d6-4b4b-4984-c4a5-9d52777f7e5d"
      },
      "execution_count": 21,
      "outputs": [
        {
          "output_type": "execute_result",
          "data": {
            "application/vnd.google.colaboratory.intrinsic+json": {
              "type": "string"
            },
            "text/plain": [
              "'C'"
            ]
          },
          "metadata": {},
          "execution_count": 21
        }
      ]
    },
    {
      "cell_type": "code",
      "source": [
        "X1=pd.Series(['A','B','C'],index=['first','second','third'])\n",
        "X1\n",
        "print(X1)\n",
        "X2=pd.Series(['D','E','F'],index=['fourth','fifth','sixth'])\n",
        "print(X2)"
      ],
      "metadata": {
        "colab": {
          "base_uri": "https://localhost:8080/"
        },
        "id": "zGuuPXtYUBCZ",
        "outputId": "f2363cd5-0577-4776-a8cc-ebe686a86dc1"
      },
      "execution_count": 29,
      "outputs": [
        {
          "output_type": "stream",
          "name": "stdout",
          "text": [
            "first     A\n",
            "second    B\n",
            "third     C\n",
            "dtype: object\n",
            "fourth    D\n",
            "fifth     E\n",
            "sixth     F\n",
            "dtype: object\n"
          ]
        }
      ]
    },
    {
      "cell_type": "code",
      "source": [
        "X=X1.append(X2)\n",
        "X"
      ],
      "metadata": {
        "colab": {
          "base_uri": "https://localhost:8080/"
        },
        "id": "PANV81DrUT6r",
        "outputId": "49125d4f-6daa-4582-d2f0-2b5c6ff0c8bb"
      },
      "execution_count": 30,
      "outputs": [
        {
          "output_type": "execute_result",
          "data": {
            "text/plain": [
              "first     A\n",
              "second    B\n",
              "third     C\n",
              "fourth    D\n",
              "fifth     E\n",
              "sixth     F\n",
              "dtype: object"
            ]
          },
          "metadata": {},
          "execution_count": 30
        }
      ]
    },
    {
      "cell_type": "markdown",
      "source": [
        "### Given the X pandas Series, show its last element\n"
      ],
      "metadata": {
        "id": "3SoSKNDWTm0B"
      }
    },
    {
      "cell_type": "markdown",
      "source": [
        "### Given the X pandas Series, show all middle elements\n"
      ],
      "metadata": {
        "id": "6ngYiY0_VF9s"
      }
    },
    {
      "cell_type": "code",
      "source": [
        "X[1:-1]"
      ],
      "metadata": {
        "colab": {
          "base_uri": "https://localhost:8080/"
        },
        "id": "yeHdBk9tVG5X",
        "outputId": "4920b685-81ec-4d64-f882-8d67b2ebfbc5"
      },
      "execution_count": 31,
      "outputs": [
        {
          "output_type": "execute_result",
          "data": {
            "text/plain": [
              "second    B\n",
              "third     C\n",
              "fourth    D\n",
              "fifth     E\n",
              "dtype: object"
            ]
          },
          "metadata": {},
          "execution_count": 31
        }
      ]
    },
    {
      "cell_type": "markdown",
      "source": [
        "### Given the X pandas Series, show the elements in reverse position\n"
      ],
      "metadata": {
        "id": "PWaVOHsPVZg0"
      }
    },
    {
      "cell_type": "code",
      "source": [
        "X[::-1]"
      ],
      "metadata": {
        "colab": {
          "base_uri": "https://localhost:8080/"
        },
        "id": "2wgGsGLrVB__",
        "outputId": "555f1273-d876-4756-e285-2e0cc58c238e"
      },
      "execution_count": 32,
      "outputs": [
        {
          "output_type": "execute_result",
          "data": {
            "text/plain": [
              "sixth     F\n",
              "fifth     E\n",
              "fourth    D\n",
              "third     C\n",
              "second    B\n",
              "first     A\n",
              "dtype: object"
            ]
          },
          "metadata": {},
          "execution_count": 32
        }
      ]
    },
    {
      "cell_type": "markdown",
      "source": [
        "### Given the X pandas Series, show the first and last elements\n"
      ],
      "metadata": {
        "id": "LzfMDRGiViiN"
      }
    },
    {
      "cell_type": "code",
      "source": [
        "X[[0,-1]]"
      ],
      "metadata": {
        "colab": {
          "base_uri": "https://localhost:8080/"
        },
        "id": "kPaHMLXUVjTu",
        "outputId": "39b45c06-33b3-4b16-cb4e-c4416f2b24e6"
      },
      "execution_count": 33,
      "outputs": [
        {
          "output_type": "execute_result",
          "data": {
            "text/plain": [
              "first    A\n",
              "sixth    F\n",
              "dtype: object"
            ]
          },
          "metadata": {},
          "execution_count": 33
        }
      ]
    },
    {
      "cell_type": "markdown",
      "source": [
        "## Series manipulation\n",
        "### Convert the given integer pandas Series to float\n",
        "\n"
      ],
      "metadata": {
        "id": "mz8BCRjhVoUA"
      }
    },
    {
      "cell_type": "code",
      "source": [
        "X = pd.Series([1,2,3,4,5,6],\n",
        "              index=['first','second','third','forth','fifth','sixth'])\n",
        "\n",
        "pd.Series(X, dtype=np.float32)"
      ],
      "metadata": {
        "colab": {
          "base_uri": "https://localhost:8080/"
        },
        "id": "cuStnyjqVvx_",
        "outputId": "a4c7765c-ecac-4bff-ea49-1f8a78265029"
      },
      "execution_count": 36,
      "outputs": [
        {
          "output_type": "execute_result",
          "data": {
            "text/plain": [
              "first     1.0\n",
              "second    2.0\n",
              "third     3.0\n",
              "forth     4.0\n",
              "fifth     5.0\n",
              "sixth     6.0\n",
              "dtype: float32"
            ]
          },
          "metadata": {},
          "execution_count": 36
        }
      ]
    },
    {
      "cell_type": "markdown",
      "source": [
        "### Reverse the given pandas Series (first element becomes last)\n"
      ],
      "metadata": {
        "id": "FAY5jvoKWH32"
      }
    },
    {
      "cell_type": "code",
      "source": [
        "pd.Series(X[::-1])\n",
        "\n",
        "X"
      ],
      "metadata": {
        "colab": {
          "base_uri": "https://localhost:8080/"
        },
        "id": "z52y_-sCWKcK",
        "outputId": "5b3c2422-9d65-4fe8-c5cd-82de03214e69"
      },
      "execution_count": 39,
      "outputs": [
        {
          "output_type": "execute_result",
          "data": {
            "text/plain": [
              "first     1\n",
              "second    2\n",
              "third     3\n",
              "forth     4\n",
              "fifth     5\n",
              "sixth     6\n",
              "dtype: int64"
            ]
          },
          "metadata": {},
          "execution_count": 39
        }
      ]
    },
    {
      "cell_type": "markdown",
      "source": [
        "### Order (sort) the given pandas Series\n"
      ],
      "metadata": {
        "id": "mGiAJRz-Wbwh"
      }
    },
    {
      "cell_type": "code",
      "source": [
        "X.sort_values()"
      ],
      "metadata": {
        "colab": {
          "base_uri": "https://localhost:8080/"
        },
        "id": "qPLFZiuhWeE2",
        "outputId": "87a7475d-36f6-4cf2-e5b2-9c96e5727990"
      },
      "execution_count": 40,
      "outputs": [
        {
          "output_type": "execute_result",
          "data": {
            "text/plain": [
              "first     1\n",
              "second    2\n",
              "third     3\n",
              "forth     4\n",
              "fifth     5\n",
              "sixth     6\n",
              "dtype: int64"
            ]
          },
          "metadata": {},
          "execution_count": 40
        }
      ]
    },
    {
      "cell_type": "markdown",
      "source": [
        "### Given the X pandas Series, set the fifth element equal to 10\n"
      ],
      "metadata": {
        "id": "QwPEWMK7Wmax"
      }
    },
    {
      "cell_type": "code",
      "source": [
        "X[4]=10\n",
        "X[5]=6\n",
        "X"
      ],
      "metadata": {
        "colab": {
          "base_uri": "https://localhost:8080/"
        },
        "id": "ySimdi3IWqo9",
        "outputId": "d55ddb5e-7216-4cf0-9f4f-c2471f30e416"
      },
      "execution_count": 44,
      "outputs": [
        {
          "output_type": "execute_result",
          "data": {
            "text/plain": [
              "first      1\n",
              "second     2\n",
              "third      3\n",
              "forth      4\n",
              "fifth     10\n",
              "sixth      6\n",
              "dtype: int64"
            ]
          },
          "metadata": {},
          "execution_count": 44
        }
      ]
    },
    {
      "cell_type": "markdown",
      "source": [
        "### Given the X pandas Series, change all the middle elements to 0\n"
      ],
      "metadata": {
        "id": "n8blKhPaW7hR"
      }
    },
    {
      "cell_type": "code",
      "source": [
        "X[1:-1]=0\n",
        "X"
      ],
      "metadata": {
        "colab": {
          "base_uri": "https://localhost:8080/"
        },
        "id": "rI172iLpW-St",
        "outputId": "8602d1e4-02de-46dc-fdc7-5cc54a351acb"
      },
      "execution_count": 45,
      "outputs": [
        {
          "output_type": "execute_result",
          "data": {
            "text/plain": [
              "first     1\n",
              "second    0\n",
              "third     0\n",
              "forth     0\n",
              "fifth     0\n",
              "sixth     6\n",
              "dtype: int64"
            ]
          },
          "metadata": {},
          "execution_count": 45
        }
      ]
    },
    {
      "cell_type": "markdown",
      "source": [
        "### Given the X pandas Series, add 5 to every element\n"
      ],
      "metadata": {
        "id": "t03GeGQEXFeA"
      }
    },
    {
      "cell_type": "code",
      "source": [
        "X+=5\n",
        "X"
      ],
      "metadata": {
        "colab": {
          "base_uri": "https://localhost:8080/"
        },
        "id": "pSWzzlgeXIFt",
        "outputId": "c768625c-598b-44e8-b4b9-e7e341412c4d"
      },
      "execution_count": 48,
      "outputs": [
        {
          "output_type": "execute_result",
          "data": {
            "text/plain": [
              "first      6\n",
              "second     5\n",
              "third      5\n",
              "forth      5\n",
              "fifth      5\n",
              "sixth     11\n",
              "dtype: int64"
            ]
          },
          "metadata": {},
          "execution_count": 48
        }
      ]
    },
    {
      "cell_type": "markdown",
      "source": [
        "## Series boolean arrays (also called masks)\n",
        "### Given the X pandas Series, make a mask showing negative elements\n"
      ],
      "metadata": {
        "id": "LiSsDneRXPW-"
      }
    },
    {
      "cell_type": "code",
      "source": [
        "X = pd.Series([-1,2,0,-4,5,6,0,0,-9,10],dtype=np.int8)\n",
        "mask=X<0\n",
        "mask\n"
      ],
      "metadata": {
        "colab": {
          "base_uri": "https://localhost:8080/"
        },
        "id": "urAUnDsQXSKW",
        "outputId": "531f7b22-4465-41e0-d19e-0d414d651930"
      },
      "execution_count": 53,
      "outputs": [
        {
          "output_type": "execute_result",
          "data": {
            "text/plain": [
              "0     True\n",
              "1    False\n",
              "2    False\n",
              "3     True\n",
              "4    False\n",
              "5    False\n",
              "6    False\n",
              "7    False\n",
              "8     True\n",
              "9    False\n",
              "dtype: bool"
            ]
          },
          "metadata": {},
          "execution_count": 53
        }
      ]
    },
    {
      "cell_type": "markdown",
      "source": [
        "### Given the X pandas Series, get the negative elements\n"
      ],
      "metadata": {
        "id": "F9zQ2HMVXiuJ"
      }
    },
    {
      "cell_type": "code",
      "source": [
        "X[mask]"
      ],
      "metadata": {
        "colab": {
          "base_uri": "https://localhost:8080/"
        },
        "id": "dsb32tZGXjzL",
        "outputId": "d2a22daa-80b4-47df-fad4-d36ce596105c"
      },
      "execution_count": 54,
      "outputs": [
        {
          "output_type": "execute_result",
          "data": {
            "text/plain": [
              "0   -1\n",
              "3   -4\n",
              "8   -9\n",
              "dtype: int8"
            ]
          },
          "metadata": {},
          "execution_count": 54
        }
      ]
    },
    {
      "cell_type": "markdown",
      "source": [
        "### Given the X pandas Series, get numbers higher than 5\n"
      ],
      "metadata": {
        "id": "0TOI98ZrXoXY"
      }
    },
    {
      "cell_type": "code",
      "source": [
        "mask=X>5\n",
        "X[mask]"
      ],
      "metadata": {
        "colab": {
          "base_uri": "https://localhost:8080/"
        },
        "id": "k1ZPhKXcXrwa",
        "outputId": "5642866d-1918-4fc6-cc31-a636446809b7"
      },
      "execution_count": 55,
      "outputs": [
        {
          "output_type": "execute_result",
          "data": {
            "text/plain": [
              "5     6\n",
              "9    10\n",
              "dtype: int8"
            ]
          },
          "metadata": {},
          "execution_count": 55
        }
      ]
    },
    {
      "cell_type": "markdown",
      "source": [
        "### Given the X pandas Series, get numbers higher than the elements mean\n"
      ],
      "metadata": {
        "id": "Ndi_eCEbX7U1"
      }
    },
    {
      "cell_type": "code",
      "source": [
        "X[X>=X.mean()]"
      ],
      "metadata": {
        "colab": {
          "base_uri": "https://localhost:8080/"
        },
        "id": "XKrEqrujX9et",
        "outputId": "bb310067-4979-4805-e132-523b9a1dd45b"
      },
      "execution_count": 56,
      "outputs": [
        {
          "output_type": "execute_result",
          "data": {
            "text/plain": [
              "1     2\n",
              "4     5\n",
              "5     6\n",
              "9    10\n",
              "dtype: int8"
            ]
          },
          "metadata": {},
          "execution_count": 56
        }
      ]
    },
    {
      "cell_type": "markdown",
      "source": [
        "### Given the X pandas Series, get numbers equal to 2 or 10\n"
      ],
      "metadata": {
        "id": "p-QQl_ZtYFja"
      }
    },
    {
      "cell_type": "code",
      "source": [
        "X[(X==2)|(X==10)]"
      ],
      "metadata": {
        "colab": {
          "base_uri": "https://localhost:8080/"
        },
        "id": "fRms2v_sYH4t",
        "outputId": "45d22a96-0305-4d5b-d609-e6198b8dcfda"
      },
      "execution_count": 57,
      "outputs": [
        {
          "output_type": "execute_result",
          "data": {
            "text/plain": [
              "1     2\n",
              "9    10\n",
              "dtype: int8"
            ]
          },
          "metadata": {},
          "execution_count": 57
        }
      ]
    },
    {
      "cell_type": "markdown",
      "source": [
        "## Logic functions\n",
        "### Given the X pandas Series, return True if none of its elements is zero\n"
      ],
      "metadata": {
        "id": "b9H8sjjqYVLV"
      }
    },
    {
      "cell_type": "code",
      "source": [
        "X.all()"
      ],
      "metadata": {
        "colab": {
          "base_uri": "https://localhost:8080/"
        },
        "id": "Zbj1Hv_8YYf2",
        "outputId": "5a8692ee-9521-4da4-d06c-0efcdeab59c1"
      },
      "execution_count": 64,
      "outputs": [
        {
          "output_type": "execute_result",
          "data": {
            "text/plain": [
              "False"
            ]
          },
          "metadata": {},
          "execution_count": 64
        }
      ]
    },
    {
      "cell_type": "markdown",
      "source": [
        "### Given the X pandas Series, return True if any of its elements is zero\n"
      ],
      "metadata": {
        "id": "8sz2g8KsY_VP"
      }
    },
    {
      "cell_type": "code",
      "source": [
        "X.any()"
      ],
      "metadata": {
        "colab": {
          "base_uri": "https://localhost:8080/"
        },
        "id": "sdSqI8vFZAO6",
        "outputId": "545d8c25-ab22-4646-81eb-25892e11e585"
      },
      "execution_count": 65,
      "outputs": [
        {
          "output_type": "execute_result",
          "data": {
            "text/plain": [
              "True"
            ]
          },
          "metadata": {},
          "execution_count": 65
        }
      ]
    },
    {
      "cell_type": "markdown",
      "source": [
        "## Summary statistics\n",
        "### Given the X pandas Series, show the sum of its elements\n"
      ],
      "metadata": {
        "id": "dhgsDwVUZKXh"
      }
    },
    {
      "cell_type": "code",
      "source": [
        "X.sum()"
      ],
      "metadata": {
        "colab": {
          "base_uri": "https://localhost:8080/"
        },
        "id": "8oVY3SzVZNC9",
        "outputId": "2c793ef8-5e38-4323-c0c5-6c97d6d4cf96"
      },
      "execution_count": 66,
      "outputs": [
        {
          "output_type": "execute_result",
          "data": {
            "text/plain": [
              "9"
            ]
          },
          "metadata": {},
          "execution_count": 66
        }
      ]
    },
    {
      "cell_type": "markdown",
      "source": [
        "### Given the X pandas Series, show the mean value of its elements\n"
      ],
      "metadata": {
        "id": "2tW4ZwivZQO4"
      }
    },
    {
      "cell_type": "code",
      "source": [
        "X.mean()"
      ],
      "metadata": {
        "colab": {
          "base_uri": "https://localhost:8080/"
        },
        "id": "ulE0NxbxZSt0",
        "outputId": "0914b889-f7f7-4ce7-9b09-0719ceedf613"
      },
      "execution_count": 67,
      "outputs": [
        {
          "output_type": "execute_result",
          "data": {
            "text/plain": [
              "0.9"
            ]
          },
          "metadata": {},
          "execution_count": 67
        }
      ]
    },
    {
      "cell_type": "markdown",
      "source": [
        "### Given the X pandas Series, show the max value of its elements\n"
      ],
      "metadata": {
        "id": "QvtD8hDxZVPn"
      }
    },
    {
      "cell_type": "code",
      "source": [
        "X.max()"
      ],
      "metadata": {
        "colab": {
          "base_uri": "https://localhost:8080/"
        },
        "id": "t3qsjT1WZZfu",
        "outputId": "50191e11-4c35-4c4a-d946-502fbda327db"
      },
      "execution_count": 68,
      "outputs": [
        {
          "output_type": "execute_result",
          "data": {
            "text/plain": [
              "10"
            ]
          },
          "metadata": {},
          "execution_count": 68
        }
      ]
    }
  ]
}