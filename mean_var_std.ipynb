{
  "nbformat": 4,
  "nbformat_minor": 0,
  "metadata": {
    "colab": {
      "name": "mean_var_std.ipynb",
      "provenance": [],
      "mount_file_id": "1qLzBx9dgylbQUcAwnGGw3TRUlZPMQPdd",
      "authorship_tag": "ABX9TyMyfOijPe3Ho8BiwV9paMRe",
      "include_colab_link": true
    },
    "kernelspec": {
      "name": "python3",
      "display_name": "Python 3"
    },
    "language_info": {
      "name": "python"
    }
  },
  "cells": [
    {
      "cell_type": "markdown",
      "metadata": {
        "id": "view-in-github",
        "colab_type": "text"
      },
      "source": [
        "<a href=\"https://colab.research.google.com/github/DavideColnago97/Lesson-Data-Analysis-with-Python-/blob/master/mean_var_std.ipynb\" target=\"_parent\"><img src=\"https://colab.research.google.com/assets/colab-badge.svg\" alt=\"Open In Colab\"/></a>"
      ]
    },
    {
      "cell_type": "code",
      "source": [
        "import numpy as np"
      ],
      "metadata": {
        "id": "dOf4sipbKtQl"
      },
      "execution_count": 24,
      "outputs": []
    },
    {
      "cell_type": "code",
      "source": [
        "list= [1,2,3,4,5,6,7,8,9]\n",
        "\n",
        "matrix= np.array([[list[0],list[1],list[2]],\n",
        "                [list[3],list[4],list[5]],\n",
        "                [list[6],list[7],list[8]]])\n",
        "matrix"
      ],
      "metadata": {
        "colab": {
          "base_uri": "https://localhost:8080/"
        },
        "id": "J5jFsY85PZm9",
        "outputId": "135282f9-d0b3-4981-e18b-e765ae8a403d"
      },
      "execution_count": 30,
      "outputs": [
        {
          "output_type": "execute_result",
          "data": {
            "text/plain": [
              "array([[1, 2, 3],\n",
              "       [4, 5, 6],\n",
              "       [7, 8, 9]])"
            ]
          },
          "metadata": {},
          "execution_count": 30
        }
      ]
    },
    {
      "cell_type": "code",
      "execution_count": 67,
      "metadata": {
        "colab": {
          "base_uri": "https://localhost:8080/"
        },
        "id": "ZdxzDx9jJ8D0",
        "outputId": "b2c19f43-43fe-42e7-d16a-8d654d1ed722"
      },
      "outputs": [
        {
          "output_type": "execute_result",
          "data": {
            "text/plain": [
              "{'max': [[7, 8, 9], [3, 6, 9], 9],\n",
              " 'mean': [[4.0, 5.0, 6.0], [2.0, 5.0, 8.0], 5.0],\n",
              " 'min': [[1, 2, 3], [1, 4, 7], 1],\n",
              " 'standard deviation': [[2.449489742783178,\n",
              "   2.449489742783178,\n",
              "   2.449489742783178],\n",
              "  [0.816496580927726, 0.816496580927726, 0.816496580927726],\n",
              "  2.581988897471611],\n",
              " 'sum': [[12, 15, 18], [6, 15, 24], 45],\n",
              " 'variance': [[6.0, 6.0, 6.0],\n",
              "  [0.6666666666666666, 0.6666666666666666, 0.6666666666666666],\n",
              "  6.666666666666667]}"
            ]
          },
          "metadata": {},
          "execution_count": 67
        }
      ],
      "source": [
        "def matrix (list):\n",
        "    return np.array([[list[0],list[1],list[2]],\n",
        "                      [list[3],list[4],list[5]],\n",
        "                      [list[6],list[7],list[8]]])\n",
        "\n",
        "def calculations (list):\n",
        "     return{'mean':[[matrix(list)[:,0].mean(),matrix(list)[:,1].mean(),matrix(list)[:,2].mean()]\n",
        "                      ,[matrix(list)[0,:].mean(),matrix(list)[1,:].mean(),matrix(list)[2,:].mean()],\n",
        "                      matrix(list)[:,:].mean()],\n",
        "            'variance':[[matrix(list)[:,0].var(),matrix(list)[:,1].var(),matrix(list)[:,2].var()]\n",
        "                      ,[matrix(list)[0,:].var(),matrix(list)[1,:].var(),matrix(list)[2,:].var()],\n",
        "                      matrix(list)[:,:].var()],\n",
        "            'standard deviation':[[matrix(list)[:,0].std(),matrix(list)[:,1].std(),matrix(list)[:,2].std()]\n",
        "                      ,[matrix(list)[0,:].std(),matrix(list)[1,:].std(),matrix(list)[2,:].std()],\n",
        "                      matrix(list)[:,:].std()],\n",
        "            'max':[[matrix(list)[:,0].max(),matrix(list)[:,1].max(),matrix(list)[:,2].max()]\n",
        "                      ,[matrix(list)[0,:].max(),matrix(list)[1,:].max(),matrix(list)[2,:].max()],\n",
        "                      matrix(list)[:,:].max()],\n",
        "            'min':[[matrix(list)[:,0].min(),matrix(list)[:,1].min(),matrix(list)[:,2].min()]\n",
        "                      ,[matrix(list)[0,:].min(),matrix(list)[1,:].min(),matrix(list)[2,:].min()],\n",
        "                      matrix(list)[:,:].min()],\n",
        "            'sum':[[matrix(list)[:,0].sum(),matrix(list)[:,1].sum(),matrix(list)[:,2].sum()]\n",
        "                      ,[matrix(list)[0,:].sum(),matrix(list)[1,:].sum(),matrix(list)[2,:].sum()],\n",
        "                      matrix(list)[:,:].sum()]}\n",
        "\n",
        "   \n",
        "calculations(list)"
      ]
    }
  ]
}